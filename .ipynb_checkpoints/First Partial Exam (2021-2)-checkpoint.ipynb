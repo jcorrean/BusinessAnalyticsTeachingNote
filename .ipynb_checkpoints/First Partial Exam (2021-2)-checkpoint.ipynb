{
 "cells": [
  {
   "cell_type": "markdown",
   "id": "78dfe036",
   "metadata": {},
   "source": [
    "# Primer Parcial\n",
    "\n",
    "**Instrucciones**\n",
    "\n",
    "Para este parcial, usted debe descargar el archivo EuropeanSocSurv.csv y el archivo EuropeanSocSurv.omv en el disco duro de su computador. \n",
    "\n",
    "Para este parcial, usted tiene las siguientes dos opciones para enviar sus respuestas:\n",
    "\n",
    "**Opción 1**: Usted edita este jupyter notebook directamente, lo guarda y lo envía de regreso por correo electrónico\n",
    "\n",
    "**Opción 2**: Usted responde las preguntas de este jupyter notebook en un word y lo envía de regreso por email.\n",
    "\n",
    "(Independientemente de la opción elegida, recuerde enviarlo al correo del profesor Juan C. Correa, antes de las 7:00 pm del día 26-08-2021)\n",
    "\n",
    "**Sugerencia**\n",
    "Si desea obtener un buen rendimiento en este parcial, se le sugiere mirar atentamente [este video](https://youtu.be/Us0YyJtZRKE) (No se olvide de dar like o dejar un comentario en ese video) :)"
   ]
  },
  {
   "cell_type": "markdown",
   "id": "f4ecc1d1",
   "metadata": {},
   "source": [
    "Pregunta 1: ¿Qué se logra hacer con las siguientes dos sintaxis?"
   ]
  },
  {
   "cell_type": "code",
   "execution_count": null,
   "id": "6c143427",
   "metadata": {},
   "outputs": [],
   "source": [
    "import pandas as pd"
   ]
  },
  {
   "cell_type": "code",
   "execution_count": null,
   "id": "a56b6d38",
   "metadata": {},
   "outputs": [],
   "source": [
    "d = pd.read_csv('~/EuropeanSocSurv.csv')"
   ]
  },
  {
   "cell_type": "markdown",
   "id": "ac947e45",
   "metadata": {},
   "source": [
    "Pregunta 2: ¿Qué parece estar haciendo la siguiente sintaxis?"
   ]
  },
  {
   "cell_type": "code",
   "execution_count": null,
   "id": "59906c3c",
   "metadata": {},
   "outputs": [],
   "source": [
    "d.head()"
   ]
  },
  {
   "cell_type": "markdown",
   "id": "597ad5b1",
   "metadata": {},
   "source": [
    "Pregunta 3. ¿Cuál parece ser la diferencia entre las singuientes dos sintaxis?"
   ]
  },
  {
   "cell_type": "code",
   "execution_count": null,
   "id": "937084dd",
   "metadata": {},
   "outputs": [],
   "source": [
    "print(d.columns)"
   ]
  },
  {
   "cell_type": "code",
   "execution_count": null,
   "id": "25552dc7",
   "metadata": {},
   "outputs": [],
   "source": [
    "print(list(d.columns))"
   ]
  },
  {
   "cell_type": "markdown",
   "id": "c43368df",
   "metadata": {},
   "source": [
    "Pregunta 4: ¿Qué parece estar haciendo la siguiente sintaxis?"
   ]
  },
  {
   "cell_type": "code",
   "execution_count": null,
   "id": "8de922ef",
   "metadata": {},
   "outputs": [],
   "source": [
    "d.inwtm.hist()"
   ]
  },
  {
   "cell_type": "markdown",
   "id": "42615add",
   "metadata": {},
   "source": [
    "Pregunta 5: ¿Qué parece estar haciendo la siguiente sintaxis?"
   ]
  },
  {
   "cell_type": "code",
   "execution_count": null,
   "id": "5db6a256",
   "metadata": {},
   "outputs": [],
   "source": [
    "d.stratum.describe()"
   ]
  },
  {
   "cell_type": "markdown",
   "id": "45746534",
   "metadata": {},
   "source": [
    "Pregunta 6: ¿Por qué un administrador de empresas debe aprender analítica de datos?"
   ]
  },
  {
   "cell_type": "markdown",
   "id": "c998e2bc",
   "metadata": {},
   "source": [
    "Pregunta 7: ¿El formato de la base de datos EuropeanSocSurv.csv es amplio o largo?"
   ]
  },
  {
   "cell_type": "markdown",
   "id": "ba80a65e",
   "metadata": {},
   "source": [
    "Pregunta 8: ¿Qué relación hay entre el simulador de Blue en Kelsey White y el concepto de Empresa Data-driven?"
   ]
  },
  {
   "cell_type": "markdown",
   "id": "4b18507f",
   "metadata": {},
   "source": [
    "Pregunta 9: Con base en la experiencia que usted desarrolló al usar el simulador de Blue en Kelsey White, mencione y argumente cuáles serían todas las bases de datos que usted y su equipo ejecutivo debería solicitarle al departamento de tecnologías de la información para poder tomar decisiones estratégicas"
   ]
  },
  {
   "cell_type": "markdown",
   "id": "42277e98",
   "metadata": {},
   "source": [
    "Pregunta 10: ¿Por qué se afirma que Excel (aunque muy popular) no es una herramienta adecuada para hacer analítica de datos?"
   ]
  }
 ],
 "metadata": {
  "kernelspec": {
   "display_name": "Python 3 (ipykernel)",
   "language": "python",
   "name": "python3"
  },
  "language_info": {
   "codemirror_mode": {
    "name": "ipython",
    "version": 3
   },
   "file_extension": ".py",
   "mimetype": "text/x-python",
   "name": "python",
   "nbconvert_exporter": "python",
   "pygments_lexer": "ipython3",
   "version": "3.9.7"
  }
 },
 "nbformat": 4,
 "nbformat_minor": 5
}
